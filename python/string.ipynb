{
 "cells": [
  {
   "cell_type": "code",
   "execution_count": 1,
   "id": "cfdb1235",
   "metadata": {},
   "outputs": [
    {
     "name": "stdout",
     "output_type": "stream",
     "text": [
      "hello phy!\n"
     ]
    }
   ],
   "source": [
    "str_1='hello phy!'\n",
    "print(str_1)"
   ]
  },
  {
   "cell_type": "code",
   "execution_count": 2,
   "id": "892c322f",
   "metadata": {},
   "outputs": [
    {
     "data": {
      "text/plain": [
       "'hello phy!'"
      ]
     },
     "execution_count": 2,
     "metadata": {},
     "output_type": "execute_result"
    }
   ],
   "source": [
    "str_1"
   ]
  },
  {
   "cell_type": "code",
   "execution_count": 3,
   "id": "5e69c6e4",
   "metadata": {},
   "outputs": [
    {
     "data": {
      "text/plain": [
       "'helolandis'"
      ]
     },
     "execution_count": 3,
     "metadata": {},
     "output_type": "execute_result"
    }
   ],
   "source": [
    "str_2=\"helo\"+\"landis\"\n",
    "str_2"
   ]
  },
  {
   "cell_type": "code",
   "execution_count": 4,
   "id": "58bea27a",
   "metadata": {},
   "outputs": [
    {
     "data": {
      "text/plain": [
       "'hello phy!hello phy!hello phy!'"
      ]
     },
     "execution_count": 4,
     "metadata": {},
     "output_type": "execute_result"
    }
   ],
   "source": [
    "str_3= str_1*3\n",
    "str_3"
   ]
  },
  {
   "cell_type": "code",
   "execution_count": 5,
   "id": "514ed5c2",
   "metadata": {},
   "outputs": [
    {
     "data": {
      "text/plain": [
       "['1', '2', '3', '4', '5']"
      ]
     },
     "execution_count": 5,
     "metadata": {},
     "output_type": "execute_result"
    }
   ],
   "source": [
    "str_4=\"1 2 3 4 5\"\n",
    "str_4.split()"
   ]
  },
  {
   "cell_type": "code",
   "execution_count": 6,
   "id": "bae7b4b0",
   "metadata": {},
   "outputs": [
    {
     "data": {
      "text/plain": [
       "['1', ' 2', ' 3', ' 4', ' 5']"
      ]
     },
     "execution_count": 6,
     "metadata": {},
     "output_type": "execute_result"
    }
   ],
   "source": [
    "str_5=\"1, 2, 3, 4, 5\"\n",
    "str_5.split(\",\")"
   ]
  },
  {
   "cell_type": "code",
   "execution_count": 7,
   "id": "d7077841",
   "metadata": {},
   "outputs": [
    {
     "data": {
      "text/plain": [
       "'1 ,   2 ,   3 ,   4 ,   5'"
      ]
     },
     "execution_count": 7,
     "metadata": {},
     "output_type": "execute_result"
    }
   ],
   "source": [
    "str_6= \" \"\n",
    "str_6.join(str_5)"
   ]
  },
  {
   "cell_type": "code",
   "execution_count": 8,
   "id": "73a62d5e",
   "metadata": {},
   "outputs": [
    {
     "data": {
      "text/plain": [
       "'hello world!'"
      ]
     },
     "execution_count": 8,
     "metadata": {},
     "output_type": "execute_result"
    }
   ],
   "source": [
    "str_1.replace(\"phy\",\"world\")"
   ]
  },
  {
   "cell_type": "code",
   "execution_count": 9,
   "id": "33dccba8",
   "metadata": {},
   "outputs": [
    {
     "data": {
      "text/plain": [
       "'hello phy!'"
      ]
     },
     "execution_count": 9,
     "metadata": {},
     "output_type": "execute_result"
    }
   ],
   "source": [
    "str_1.lstrip()"
   ]
  },
  {
   "cell_type": "code",
   "execution_count": 10,
   "id": "385d03f2",
   "metadata": {},
   "outputs": [
    {
     "data": {
      "text/plain": [
       "'hello phy!'"
      ]
     },
     "execution_count": 10,
     "metadata": {},
     "output_type": "execute_result"
    }
   ],
   "source": [
    "str_1.rstrip()"
   ]
  },
  {
   "cell_type": "code",
   "execution_count": 11,
   "id": "ffb9bfa0",
   "metadata": {},
   "outputs": [
    {
     "name": "stdout",
     "output_type": "stream",
     "text": [
      "True\n"
     ]
    }
   ],
   "source": [
    "txt=\"the best thing is the life is free\"\n",
    "print(\"free\"in txt)"
   ]
  },
  {
   "cell_type": "code",
   "execution_count": 12,
   "id": "dde7ec80",
   "metadata": {},
   "outputs": [
    {
     "name": "stdout",
     "output_type": "stream",
     "text": [
      "yes ,'free' is present\n"
     ]
    }
   ],
   "source": [
    "txt=\"the best thing is the life is free\"\n",
    "if \"free\" in txt:\n",
    " print(\"yes ,'free' is present\")"
   ]
  },
  {
   "cell_type": "code",
   "execution_count": 13,
   "id": "56b3e6f8",
   "metadata": {},
   "outputs": [
    {
     "name": "stdout",
     "output_type": "stream",
     "text": [
      "False\n"
     ]
    }
   ],
   "source": [
    "txt=\"the best thing is the life is free\"\n",
    "print(\"expensive\"in txt)"
   ]
  },
  {
   "cell_type": "code",
   "execution_count": 14,
   "id": "68fea652",
   "metadata": {},
   "outputs": [
    {
     "name": "stdout",
     "output_type": "stream",
     "text": [
      "not ,'expensive'is not present\n"
     ]
    }
   ],
   "source": [
    "txt=\"the best thing is the life is free\"\n",
    "if \"expensive\" not in txt:\n",
    " print(\"not ,'expensive'is not present\")"
   ]
  },
  {
   "cell_type": "code",
   "execution_count": 15,
   "id": "1d94e18d",
   "metadata": {},
   "outputs": [
    {
     "name": "stdout",
     "output_type": "stream",
     "text": [
      "llo\n",
      "hello\n",
      "llo,world!\n",
      "orl\n"
     ]
    }
   ],
   "source": [
    "b=\"hello,world!\"\n",
    "print(b[2:5])\n",
    "b1=\"hello,world!\"\n",
    "print(b1[:5])\n",
    "b3=\"hello,world!\"\n",
    "print(b3[2:])\n",
    "b4=\"hello,world!\"\n",
    "print(b4[-5:-2])"
   ]
  },
  {
   "cell_type": "code",
   "execution_count": 16,
   "id": "5add9cad",
   "metadata": {},
   "outputs": [
    {
     "name": "stdout",
     "output_type": "stream",
     "text": [
      "HELLO,WORLD!\n",
      "hello,world!\n"
     ]
    }
   ],
   "source": [
    "b=\"hello,world!\"\n",
    "print(b.upper())\n",
    "print(b.lower())"
   ]
  },
  {
   "cell_type": "code",
   "execution_count": 17,
   "id": "39a9fbce",
   "metadata": {},
   "outputs": [
    {
     "name": "stdout",
     "output_type": "stream",
     "text": [
      "my name is ms dhoni 36\n"
     ]
    }
   ],
   "source": [
    "age=36\n",
    "txt=\"my name is ms dhoni {}\"\n",
    "print(txt.format(age))"
   ]
  },
  {
   "cell_type": "code",
   "execution_count": 18,
   "id": "b77a39e4",
   "metadata": {},
   "outputs": [
    {
     "name": "stdout",
     "output_type": "stream",
     "text": [
      "my name is ms dhoni 36\n"
     ]
    }
   ],
   "source": [
    "age=36\n",
    "txt=\"my name is ms dhoni \" + str(age)\n",
    "print(txt)"
   ]
  },
  {
   "cell_type": "code",
   "execution_count": 19,
   "id": "119efc77",
   "metadata": {},
   "outputs": [
    {
     "name": "stdout",
     "output_type": "stream",
     "text": [
      " i want 3 pieces of 567 for 80.95 dollars\n"
     ]
    }
   ],
   "source": [
    "q=3\n",
    "it=567\n",
    "price=80.95\n",
    "myo=\" i want {} pieces of {} for {} dollars\"\n",
    "print(myo.format(q,it,price))"
   ]
  },
  {
   "cell_type": "code",
   "execution_count": 20,
   "id": "c8a8db3c",
   "metadata": {},
   "outputs": [
    {
     "name": "stdout",
     "output_type": "stream",
     "text": [
      " i want 80.95 pieces of 3 for 567 dollars\n"
     ]
    }
   ],
   "source": [
    "q=3\n",
    "it=567\n",
    "price=80.95\n",
    "myo=\" i want {2} pieces of {0} for {1} dollars\"\n",
    "print(myo.format(q,it,price))"
   ]
  },
  {
   "cell_type": "code",
   "execution_count": 21,
   "id": "47c994db",
   "metadata": {},
   "outputs": [
    {
     "name": "stdout",
     "output_type": "stream",
     "text": [
      "[1, 2, 3, 4]\n",
      "['apple', 'banana', 'cherry']\n"
     ]
    }
   ],
   "source": [
    "list1=[\"apple\",\"banana\",\"cherry\"]\n",
    "list2=[1,2,3,4]\n",
    "list3=[]\n",
    "list3=list1\n",
    "list1=list2\n",
    "list2=list3\n",
    "print(list1)\n",
    "print(list2)\n"
   ]
  },
  {
   "cell_type": "code",
   "execution_count": 22,
   "id": "51ee8c50",
   "metadata": {},
   "outputs": [
    {
     "name": "stdout",
     "output_type": "stream",
     "text": [
      "in fun 100 200 300 40\n",
      "in funb 1000 2000 300 40\n",
      "func 10000 2000 300 40\n",
      "in__main 10 20 30 40\n"
     ]
    }
   ],
   "source": [
    "a,b,c,d=10,20,30,40\n",
    "def fun():\n",
    "    a,b,c=100,200,300\n",
    "    print(\"in fun\",a,b,c,d)\n",
    "    def funb():\n",
    "        a,b=1000,2000\n",
    "        print(\"in funb\",a,b,c,d)\n",
    "        def func():\n",
    "            a=10000\n",
    "            print(\"func\",a,b,c,d)\n",
    "        \n",
    "        func()\n",
    "    funb()\n",
    "fun()\n",
    "print(\"in__main\",a,b,c,d)\n",
    "        \n",
    "        "
   ]
  },
  {
   "cell_type": "code",
   "execution_count": null,
   "id": "ee0bb241",
   "metadata": {},
   "outputs": [],
   "source": []
  }
 ],
 "metadata": {
  "kernelspec": {
   "display_name": "Python 3 (ipykernel)",
   "language": "python",
   "name": "python3"
  },
  "language_info": {
   "codemirror_mode": {
    "name": "ipython",
    "version": 3
   },
   "file_extension": ".py",
   "mimetype": "text/x-python",
   "name": "python",
   "nbconvert_exporter": "python",
   "pygments_lexer": "ipython3",
   "version": "3.9.12"
  }
 },
 "nbformat": 4,
 "nbformat_minor": 5
}
