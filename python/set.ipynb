{
 "cells": [
  {
   "cell_type": "code",
   "execution_count": null,
   "id": "925b2afe",
   "metadata": {},
   "outputs": [],
   "source": [
    "s={\"apple\",\"banana\",\"cherry\"}\n",
    "print(s)"
   ]
  },
  {
   "cell_type": "code",
   "execution_count": null,
   "id": "9065d712",
   "metadata": {},
   "outputs": [],
   "source": [
    "s={\"apple\",\"banana\",\"cherry\"}\n",
    "print(len(s))"
   ]
  },
  {
   "cell_type": "code",
   "execution_count": null,
   "id": "648aecea",
   "metadata": {},
   "outputs": [],
   "source": [
    "s1={\"apple\",\"banana\",\"cherry\"}\n",
    "s2={1,2,3,4,5,6}\n",
    "s3={True,False,True,}\n",
    "print(s1,s2,s3)"
   ]
  },
  {
   "cell_type": "code",
   "execution_count": null,
   "id": "5ba95962",
   "metadata": {},
   "outputs": [],
   "source": [
    "s1={\"apple\",\"banana\",\"cherry\"}\n",
    "for x in s1:\n",
    "    print(x)"
   ]
  },
  {
   "cell_type": "code",
   "execution_count": null,
   "id": "fee95c3b",
   "metadata": {},
   "outputs": [],
   "source": [
    "s1={\"apple\",\"banana\",\"cherry\"}\n",
    "print(\"banana\"in s1)"
   ]
  },
  {
   "cell_type": "code",
   "execution_count": null,
   "id": "0ab6d87d",
   "metadata": {},
   "outputs": [],
   "source": [
    "s={\"apple\",\"banana\",\"cherry\"}\n",
    "print(type(s))"
   ]
  },
  {
   "cell_type": "code",
   "execution_count": null,
   "id": "e0d9b2c2",
   "metadata": {},
   "outputs": [],
   "source": [
    "s1={\"apple\",\"banana\",\"cherry\"}\n",
    "s2={1,2,3,4,5,6}\n",
    "s3={True,False,True,}\n",
    "print(type(s1),type(s2),type(s3))"
   ]
  },
  {
   "cell_type": "code",
   "execution_count": null,
   "id": "6dfd4ce4",
   "metadata": {},
   "outputs": [],
   "source": [
    "s1={\"apple\",\"banana\",\"cherry\"}\n",
    "s1.add(\"orange\")\n",
    "print(s1)"
   ]
  },
  {
   "cell_type": "code",
   "execution_count": null,
   "id": "6c99e46f",
   "metadata": {},
   "outputs": [],
   "source": [
    "s5={\"apple\",\"banana\",\"cherry\"}\n",
    "s6={\"pineapple\",\"kiwi\",\"mango\"\n",
    "}\n",
    "s5.update(s6)\n",
    "print(s5)"
   ]
  },
  {
   "cell_type": "code",
   "execution_count": null,
   "id": "b8d7008f",
   "metadata": {},
   "outputs": [],
   "source": [
    "s5={\"apple\",\"banana\",\"cherry\"}\n",
    "mylist=[\"kiwi\",\"orange\"]\n",
    "s5.update(mylist)\n",
    "print(s5)"
   ]
  },
  {
   "cell_type": "code",
   "execution_count": null,
   "id": "cbc5c1e5",
   "metadata": {},
   "outputs": [],
   "source": [
    "s5={\"apple\",\"banana\",\"cherry\"}\n",
    "y=s5.pop()\n",
    "print(y)\n",
    "print(s5)"
   ]
  },
  {
   "cell_type": "code",
   "execution_count": 7,
   "id": "b84ba22e",
   "metadata": {},
   "outputs": [
    {
     "name": "stdout",
     "output_type": "stream",
     "text": [
      "empty\n"
     ]
    }
   ],
   "source": [
    "s={\"apple\",\"banana\",\"cherry\"}\n",
    "del s\n",
    "print(\"empty\")"
   ]
  },
  {
   "cell_type": "code",
   "execution_count": 2,
   "id": "29e9bc91",
   "metadata": {},
   "outputs": [
    {
     "name": "stdout",
     "output_type": "stream",
     "text": [
      "set()\n"
     ]
    }
   ],
   "source": [
    "s5={\"apple\",\"banana\",\"cherry\"}\n",
    "s5.clear()\n",
    "print(s5)"
   ]
  },
  {
   "cell_type": "code",
   "execution_count": 9,
   "id": "cfdb333f",
   "metadata": {},
   "outputs": [
    {
     "name": "stdout",
     "output_type": "stream",
     "text": [
      "{2, 4, 5}\n",
      "{1, 2, 3, 4, 5, 7, 8}\n"
     ]
    }
   ],
   "source": [
    "a={1,2,3,4,5}\n",
    "b={2,5,8,4,7}\n",
    "print(a&b)\n",
    "print(a|b)"
   ]
  },
  {
   "cell_type": "code",
   "execution_count": null,
   "id": "1ab24f44",
   "metadata": {},
   "outputs": [],
   "source": []
  }
 ],
 "metadata": {
  "kernelspec": {
   "display_name": "Python 3 (ipykernel)",
   "language": "python",
   "name": "python3"
  },
  "language_info": {
   "codemirror_mode": {
    "name": "ipython",
    "version": 3
   },
   "file_extension": ".py",
   "mimetype": "text/x-python",
   "name": "python",
   "nbconvert_exporter": "python",
   "pygments_lexer": "ipython3",
   "version": "3.9.12"
  }
 },
 "nbformat": 4,
 "nbformat_minor": 5
}
