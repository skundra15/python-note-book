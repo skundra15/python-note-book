{
 "cells": [
  {
   "cell_type": "code",
   "execution_count": null,
   "id": "ed4f6dbe",
   "metadata": {
    "scrolled": true
   },
   "outputs": [],
   "source": [
    "a=(\"apple\",\"banana\",\"cherry\")\n",
    "print(a)"
   ]
  },
  {
   "cell_type": "code",
   "execution_count": null,
   "id": "2485d80c",
   "metadata": {},
   "outputs": [],
   "source": [
    "a=(\"apple\",\"banana\",\"cherry\")\n",
    "print(a[1])"
   ]
  },
  {
   "cell_type": "code",
   "execution_count": null,
   "id": "9f02f205",
   "metadata": {},
   "outputs": [],
   "source": [
    "b=(\"apple\",\"banana\",\"cherry\",\"ritik\",\"orange\",\"antriksh\",\"suryansh\")\n",
    "print(b[-2:-1])"
   ]
  },
  {
   "cell_type": "code",
   "execution_count": null,
   "id": "71d76bb5",
   "metadata": {},
   "outputs": [],
   "source": [
    "b=(\"apple\",\"banana\",\"cherry\",\"ritik\",\"orange\",\"antriksh\",\"suryansh\")\n",
    "print(b[2:5])"
   ]
  },
  {
   "cell_type": "code",
   "execution_count": null,
   "id": "85e60ce9",
   "metadata": {},
   "outputs": [],
   "source": [
    "b=(\"apple\",\"banana\",\"cherry\",\"ritik\",\"orange\",\"antriksh\",\"suryansh\")\n",
    "print(b[2:])"
   ]
  },
  {
   "cell_type": "code",
   "execution_count": null,
   "id": "d68ee806",
   "metadata": {},
   "outputs": [],
   "source": [
    "b=(\"apple\",\"banana\",\"cherry\",\"ritik\",\"orange\",\"antriksh\",\"suryansh\")\n",
    "print(b[:4])"
   ]
  },
  {
   "cell_type": "code",
   "execution_count": null,
   "id": "0cc1de4d",
   "metadata": {},
   "outputs": [],
   "source": [
    "a=(\"apple\",\"banana\",\"cherry\")\n",
    "if \"apple\" in a:\n",
    "    print(\"yes 'apple' is the tuple\")"
   ]
  },
  {
   "cell_type": "code",
   "execution_count": null,
   "id": "bccd78c7",
   "metadata": {},
   "outputs": [],
   "source": [
    "a=(\"apple\",\"banana\",\"cherry\")\n",
    "if \"apple\" in a:\n",
    "    print(\"yes 'apple' is the tuple\")\n",
    "   "
   ]
  },
  {
   "cell_type": "code",
   "execution_count": null,
   "id": "8e6baf59",
   "metadata": {},
   "outputs": [],
   "source": [
    "a=(\"apple\",\"banana\",\"cherry\")\n",
    "for x in a:\n",
    "    print(x)"
   ]
  },
  {
   "cell_type": "code",
   "execution_count": null,
   "id": "0ddeeb02",
   "metadata": {},
   "outputs": [],
   "source": [
    "a=(\"apple\",\"banana\",\"cherry\")\n",
    "for i in range(len(a)):\n",
    "    print(a[i])\n",
    "    \n",
    "    a=(\"apple\",\"banana\",\"cherry\")\n",
    "for i in range(0,2):\n",
    "  print(\"\\n\",a[i])  "
   ]
  },
  {
   "cell_type": "code",
   "execution_count": null,
   "id": "b545f480",
   "metadata": {},
   "outputs": [],
   "source": [
    "a=(\"apple\",\"banana\",\"cherry\")\n",
    "y=list(a)\n",
    "y[1]=\"kiwi\"\n",
    "a=tuple(y)\n",
    "print(a)"
   ]
  },
  {
   "cell_type": "code",
   "execution_count": 2,
   "id": "724e5d9f",
   "metadata": {},
   "outputs": [
    {
     "name": "stdout",
     "output_type": "stream",
     "text": [
      "('apple', 'banana', 'cherry', 'orange')\n"
     ]
    }
   ],
   "source": [
    "a=(\"apple\",\"banana\",\"cherry\")\n",
    "y=(\"orange\",)\n",
    "a += y\n",
    "print(a)"
   ]
  },
  {
   "cell_type": "code",
   "execution_count": 3,
   "id": "c1c63618",
   "metadata": {},
   "outputs": [
    {
     "name": "stdout",
     "output_type": "stream",
     "text": [
      "['banana', 'cherry']\n"
     ]
    }
   ],
   "source": [
    "a=(\"apple\",\"banana\",\"cherry\")\n",
    "y=list(a)\n",
    "y.remove(\"apple\")\n",
    "a= tuple(y)\n",
    "print(y)"
   ]
  },
  {
   "cell_type": "code",
   "execution_count": null,
   "id": "ca84847d",
   "metadata": {},
   "outputs": [],
   "source": []
  }
 ],
 "metadata": {
  "kernelspec": {
   "display_name": "Python 3 (ipykernel)",
   "language": "python",
   "name": "python3"
  },
  "language_info": {
   "codemirror_mode": {
    "name": "ipython",
    "version": 3
   },
   "file_extension": ".py",
   "mimetype": "text/x-python",
   "name": "python",
   "nbconvert_exporter": "python",
   "pygments_lexer": "ipython3",
   "version": "3.9.12"
  }
 },
 "nbformat": 4,
 "nbformat_minor": 5
}
