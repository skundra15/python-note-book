{
 "cells": [
  {
   "cell_type": "code",
   "execution_count": 1,
   "id": "3efcbcaa",
   "metadata": {},
   "outputs": [
    {
     "name": "stdout",
     "output_type": "stream",
     "text": [
      "True\n",
      "True\n"
     ]
    }
   ],
   "source": [
    "print(bool(\"hello\"))\n",
    "print(bool(15))"
   ]
  },
  {
   "cell_type": "code",
   "execution_count": 2,
   "id": "45446155",
   "metadata": {},
   "outputs": [
    {
     "name": "stdout",
     "output_type": "stream",
     "text": [
      "True\n",
      "True\n"
     ]
    }
   ],
   "source": [
    "x=\"hello\"\n",
    "y=15\n",
    "print(bool(x))\n",
    "print(bool(y))\n"
   ]
  },
  {
   "cell_type": "code",
   "execution_count": 3,
   "id": "3d9d5fd1",
   "metadata": {},
   "outputs": [
    {
     "data": {
      "text/plain": [
       "True"
      ]
     },
     "execution_count": 3,
     "metadata": {},
     "output_type": "execute_result"
    }
   ],
   "source": [
    "bool(\"abc\")\n",
    "bool(123)\n",
    "bool([\"apple\",\"cherry\",\"banana\"])"
   ]
  },
  {
   "cell_type": "code",
   "execution_count": 4,
   "id": "ae000ada",
   "metadata": {},
   "outputs": [
    {
     "data": {
      "text/plain": [
       "False"
      ]
     },
     "execution_count": 4,
     "metadata": {},
     "output_type": "execute_result"
    }
   ],
   "source": [
    "bool(False)\n",
    "bool(None)\n",
    "bool(0)\n",
    "bool(\"\")\n",
    "bool(())\n",
    "bool([])\n",
    "bool({})"
   ]
  },
  {
   "cell_type": "code",
   "execution_count": 5,
   "id": "5de883cc",
   "metadata": {},
   "outputs": [
    {
     "name": "stdout",
     "output_type": "stream",
     "text": [
      "True\n"
     ]
    }
   ],
   "source": [
    "def myfun():\n",
    "    return True\n",
    "print(myfun())"
   ]
  },
  {
   "cell_type": "code",
   "execution_count": 2,
   "id": "b92e32b3",
   "metadata": {},
   "outputs": [
    {
     "name": "stdout",
     "output_type": "stream",
     "text": [
      "yes\n"
     ]
    }
   ],
   "source": [
    "def myfun():\n",
    "    return True\n",
    "if myfun():\n",
    "    print(\"yes\")\n",
    "else:\n",
    "    print(\"no\")"
   ]
  },
  {
   "cell_type": "code",
   "execution_count": 5,
   "id": "da9a25be",
   "metadata": {},
   "outputs": [
    {
     "name": "stdout",
     "output_type": "stream",
     "text": [
      "True\n"
     ]
    }
   ],
   "source": [
    "x=200.2\n",
    "print(isinstance(x,float))"
   ]
  },
  {
   "cell_type": "code",
   "execution_count": 6,
   "id": "fbd1131a",
   "metadata": {},
   "outputs": [
    {
     "name": "stdout",
     "output_type": "stream",
     "text": [
      "True\n"
     ]
    }
   ],
   "source": [
    "x=200\n",
    "print(isinstance(x,int))"
   ]
  },
  {
   "cell_type": "code",
   "execution_count": 8,
   "id": "695999cb",
   "metadata": {},
   "outputs": [
    {
     "name": "stdout",
     "output_type": "stream",
     "text": [
      "False\n"
     ]
    }
   ],
   "source": [
    "x=200.2\n",
    "print(isinstance(x,int))"
   ]
  },
  {
   "cell_type": "code",
   "execution_count": 4,
   "id": "471d6e7d",
   "metadata": {},
   "outputs": [
    {
     "name": "stdout",
     "output_type": "stream",
     "text": [
      "4\n",
      "i am the first call \n",
      "again second call\n"
     ]
    }
   ],
   "source": [
    "def fn(str):\n",
    "    \"the print as pass string\"\n",
    "    print (str)\n",
    "    return\n",
    "fn(4)\n",
    "fn(\"i am the first call \")\n",
    "fn(\"again second call\")"
   ]
  },
  {
   "cell_type": "code",
   "execution_count": 7,
   "id": "e3263de8",
   "metadata": {},
   "outputs": [
    {
     "name": "stdout",
     "output_type": "stream",
     "text": [
      "val insode the fn [10, 20, 30, [1, 2, 3, 4]]\n",
      "valuesoutside fn [10, 20, 30, [1, 2, 3, 4]]\n"
     ]
    }
   ],
   "source": [
    "def fn(mylist):\n",
    "    mylist.append([1,2,3,4]);\n",
    "    print (\"val insode the fn\" ,mylist)\n",
    "    return\n",
    "mylist=[10,20,30]\n",
    "fn(mylist);\n",
    "print(\"valuesoutside fn\",mylist)"
   ]
  },
  {
   "cell_type": "code",
   "execution_count": 8,
   "id": "e89b911d",
   "metadata": {},
   "outputs": [
    {
     "name": "stdout",
     "output_type": "stream",
     "text": [
      "my string\n"
     ]
    }
   ],
   "source": [
    "def a(str):\n",
    "    \"this print a passed string\"\n",
    "    print (str)\n",
    "    return\n",
    "a(str=\"my string\")"
   ]
  },
  {
   "cell_type": "code",
   "execution_count": 9,
   "id": "d79f6a08",
   "metadata": {},
   "outputs": [
    {
     "name": "stdout",
     "output_type": "stream",
     "text": [
      "the change [1, 2, 3, 4]\n",
      "ouside [10, 20, 30]\n"
     ]
    }
   ],
   "source": [
    "def c(mylist):\n",
    "    mylist=[1,2,3,4];\n",
    "    print (\"the change\" ,mylist)\n",
    "    return\n",
    "mylist=[10,20,30]\n",
    "c(mylist);\n",
    "print(\"ouside\",mylist)"
   ]
  },
  {
   "cell_type": "code",
   "execution_count": 14,
   "id": "ea6a57d9",
   "metadata": {},
   "outputs": [
    {
     "name": "stdout",
     "output_type": "stream",
     "text": [
      "name= ram\n",
      "age= 100\n"
     ]
    }
   ],
   "source": [
    "def s(name,age):\n",
    "    print (\"name=\",name)\n",
    "    print(\"age=\",age)\n",
    "s(name=\"ram\",age=100)"
   ]
  },
  {
   "cell_type": "code",
   "execution_count": 16,
   "id": "ce97ea77",
   "metadata": {},
   "outputs": [
    {
     "name": "stdout",
     "output_type": "stream",
     "text": [
      "name= ram\n",
      "age= 35\n"
     ]
    }
   ],
   "source": [
    "def s(name,age=35):\n",
    "    print (\"name=\",name)\n",
    "    print(\"age=\",age)\n",
    "s(name=\"ram\")"
   ]
  },
  {
   "cell_type": "code",
   "execution_count": 26,
   "id": "401a1bb1",
   "metadata": {},
   "outputs": [
    {
     "name": "stdout",
     "output_type": "stream",
     "text": [
      "70\n",
      "hi\n",
      "60\n",
      "hi\n",
      "50\n",
      "hi\n",
      "huiiii\n",
      "hi\n",
      "10\n"
     ]
    }
   ],
   "source": [
    "def k(arg1,*x):\n",
    "    print(arg1)\n",
    "    for var in x:\n",
    "           print(\"hi\")\n",
    "           print(var)\n",
    "k(70,60,50,\"huiiii\",10)"
   ]
  },
  {
   "cell_type": "code",
   "execution_count": 38,
   "id": "4ddac0a4",
   "metadata": {},
   "outputs": [
    {
     "name": "stdout",
     "output_type": "stream",
     "text": [
      "70\n",
      "60\n",
      "50 huiiii 10\n",
      "hey\n",
      "50\n",
      "hey\n",
      "huiiii\n",
      "hey\n",
      "70\n",
      "hey\n",
      "10\n",
      "hey\n",
      "10.555\n"
     ]
    }
   ],
   "source": [
    "def k(arg1,arg2,*x):\n",
    "    print(arg1)\n",
    "    print(arg2)\n",
    "    print(x[0],x[1],x[3])\n",
    "    for var in x:\n",
    "           print(\"hey\")\n",
    "           print(var)\n",
    "k(70,60,50,\"huiiii\",70,10,10.555)"
   ]
  },
  {
   "cell_type": "code",
   "execution_count": 39,
   "id": "7bc39ec6",
   "metadata": {},
   "outputs": [
    {
     "name": "stdout",
     "output_type": "stream",
     "text": [
      "val of toatal: 30\n",
      "val of toatal: 40\n"
     ]
    }
   ],
   "source": [
    "#lambda fn\n",
    "sum= lambda a1,a2:a1+a2\n",
    "print(\"val of toatal:\",sum(10,20))\n",
    "print(\"val of toatal:\",sum(20,20))"
   ]
  },
  {
   "cell_type": "code",
   "execution_count": 48,
   "id": "989bd74a",
   "metadata": {},
   "outputs": [
    {
     "name": "stdout",
     "output_type": "stream",
     "text": [
      "15\n",
      "25\n",
      "11\n"
     ]
    }
   ],
   "source": [
    "x=lambda a:a+10\n",
    "print(x(5))\n",
    "x=lambda a,b:a*b\n",
    "print(x(5,5))\n",
    "x=lambda a,b,c:a+b+c\n",
    "print(x(5,5,1))\n"
   ]
  },
  {
   "cell_type": "code",
   "execution_count": 49,
   "id": "d0bd5fda",
   "metadata": {},
   "outputs": [
    {
     "name": "stdout",
     "output_type": "stream",
     "text": [
      "<function f.<locals>.<lambda> at 0x000001D03F1D3790>\n",
      "4\n"
     ]
    }
   ],
   "source": [
    "def f(n):\n",
    "    return lambda a:a*n\n",
    "myd=f(2)\n",
    "print(f(2))\n",
    "print(myd(2))"
   ]
  },
  {
   "cell_type": "code",
   "execution_count": 51,
   "id": "33a8417c",
   "metadata": {},
   "outputs": [
    {
     "name": "stdout",
     "output_type": "stream",
     "text": [
      "33\n"
     ]
    }
   ],
   "source": [
    "def f(n):\n",
    "    return lambda a:a*n\n",
    "myd=f(3)\n",
    "\n",
    "print(myd(11))"
   ]
  },
  {
   "cell_type": "code",
   "execution_count": 54,
   "id": "9db79e5f",
   "metadata": {},
   "outputs": [
    {
     "name": "stdout",
     "output_type": "stream",
     "text": [
      "Output is: \n",
      "70\n",
      "60\n",
      "40 50 10.734\n",
      "HI\n",
      "40\n",
      "HI\n",
      "50\n",
      "HI\n",
      "brois\n",
      "HI\n",
      "10.734\n"
     ]
    }
   ],
   "source": [
    "def fn(arg1,arg2,arg3,*x):\n",
    "    print(\"Output is: \")\n",
    "    print (arg1)\n",
    "    print (arg2)\n",
    "    print(x[0],x[1],x[3])\n",
    "  \n",
    "    for var in x:\n",
    "        print(\"HI\")\n",
    "        print(var)\n",
    "fn(70,60,50,40,50,\"brois\",10.734)"
   ]
  },
  {
   "cell_type": "code",
   "execution_count": null,
   "id": "e5a5e3c5",
   "metadata": {},
   "outputs": [],
   "source": []
  }
 ],
 "metadata": {
  "kernelspec": {
   "display_name": "Python 3 (ipykernel)",
   "language": "python",
   "name": "python3"
  },
  "language_info": {
   "codemirror_mode": {
    "name": "ipython",
    "version": 3
   },
   "file_extension": ".py",
   "mimetype": "text/x-python",
   "name": "python",
   "nbconvert_exporter": "python",
   "pygments_lexer": "ipython3",
   "version": "3.9.12"
  }
 },
 "nbformat": 4,
 "nbformat_minor": 5
}
