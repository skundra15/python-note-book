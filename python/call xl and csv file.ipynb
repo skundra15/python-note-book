{
 "cells": [
  {
   "cell_type": "code",
   "execution_count": 7,
   "id": "1e828663",
   "metadata": {},
   "outputs": [
    {
     "data": {
      "text/html": [
       "<div>\n",
       "<style scoped>\n",
       "    .dataframe tbody tr th:only-of-type {\n",
       "        vertical-align: middle;\n",
       "    }\n",
       "\n",
       "    .dataframe tbody tr th {\n",
       "        vertical-align: top;\n",
       "    }\n",
       "\n",
       "    .dataframe thead th {\n",
       "        text-align: right;\n",
       "    }\n",
       "</style>\n",
       "<table border=\"1\" class=\"dataframe\">\n",
       "  <thead>\n",
       "    <tr style=\"text-align: right;\">\n",
       "      <th></th>\n",
       "      <th>ind</th>\n",
       "      <th>Num1</th>\n",
       "      <th>Num2</th>\n",
       "    </tr>\n",
       "  </thead>\n",
       "  <tbody>\n",
       "    <tr>\n",
       "      <th>0</th>\n",
       "      <td>1</td>\n",
       "      <td>2.000</td>\n",
       "      <td>33</td>\n",
       "    </tr>\n",
       "    <tr>\n",
       "      <th>1</th>\n",
       "      <td>2</td>\n",
       "      <td>33.500</td>\n",
       "      <td>44</td>\n",
       "    </tr>\n",
       "    <tr>\n",
       "      <th>2</th>\n",
       "      <td>3</td>\n",
       "      <td>44.500</td>\n",
       "      <td>55</td>\n",
       "    </tr>\n",
       "    <tr>\n",
       "      <th>3</th>\n",
       "      <td>4</td>\n",
       "      <td>555.600</td>\n",
       "      <td>66</td>\n",
       "    </tr>\n",
       "    <tr>\n",
       "      <th>4</th>\n",
       "      <td>5</td>\n",
       "      <td>6666.700</td>\n",
       "      <td>77</td>\n",
       "    </tr>\n",
       "    <tr>\n",
       "      <th>5</th>\n",
       "      <td>6</td>\n",
       "      <td>88880.400</td>\n",
       "      <td>888</td>\n",
       "    </tr>\n",
       "    <tr>\n",
       "      <th>6</th>\n",
       "      <td>7</td>\n",
       "      <td>9999.333</td>\n",
       "      <td>9999</td>\n",
       "    </tr>\n",
       "  </tbody>\n",
       "</table>\n",
       "</div>"
      ],
      "text/plain": [
       "   ind       Num1  Num2\n",
       "0    1      2.000    33\n",
       "1    2     33.500    44\n",
       "2    3     44.500    55\n",
       "3    4    555.600    66\n",
       "4    5   6666.700    77\n",
       "5    6  88880.400   888\n",
       "6    7   9999.333  9999"
      ]
     },
     "execution_count": 7,
     "metadata": {},
     "output_type": "execute_result"
    }
   ],
   "source": [
    "import pandas as pd\n",
    "pd.read_csv('C:\\\\Users\\\\kundrasu\\\\Documents\\\\dat2.csv')\n"
   ]
  },
  {
   "cell_type": "code",
   "execution_count": 6,
   "id": "7fd3dd4e",
   "metadata": {},
   "outputs": [
    {
     "name": "stdout",
     "output_type": "stream",
     "text": [
      "        1.00  2.33\n",
      "0     22.000    33\n",
      "1     33.500    44\n",
      "2     44.500    55\n",
      "3    555.600    66\n",
      "4   6666.700    77\n",
      "5  88880.400   888\n",
      "6   9999.333  9999\n"
     ]
    }
   ],
   "source": [
    "import pandas as pd\n",
    "\n",
    "df = pd.read_excel (r'C:\\Users\\kundrasu\\Documents\\dat.xlsx')\n",
    "print (df)"
   ]
  },
  {
   "cell_type": "code",
   "execution_count": 10,
   "id": "18d65513",
   "metadata": {},
   "outputs": [
    {
     "data": {
      "text/html": [
       "<div>\n",
       "<style scoped>\n",
       "    .dataframe tbody tr th:only-of-type {\n",
       "        vertical-align: middle;\n",
       "    }\n",
       "\n",
       "    .dataframe tbody tr th {\n",
       "        vertical-align: top;\n",
       "    }\n",
       "\n",
       "    .dataframe thead th {\n",
       "        text-align: right;\n",
       "    }\n",
       "</style>\n",
       "<table border=\"1\" class=\"dataframe\">\n",
       "  <thead>\n",
       "    <tr style=\"text-align: right;\">\n",
       "      <th></th>\n",
       "      <th>num1</th>\n",
       "    </tr>\n",
       "    <tr>\n",
       "      <th>num2</th>\n",
       "      <th></th>\n",
       "    </tr>\n",
       "  </thead>\n",
       "  <tbody>\n",
       "    <tr>\n",
       "      <th>55</th>\n",
       "      <td>12</td>\n",
       "    </tr>\n",
       "    <tr>\n",
       "      <th>25</th>\n",
       "      <td>15</td>\n",
       "    </tr>\n",
       "    <tr>\n",
       "      <th>54</th>\n",
       "      <td>52</td>\n",
       "    </tr>\n",
       "    <tr>\n",
       "      <th>42</th>\n",
       "      <td>85</td>\n",
       "    </tr>\n",
       "    <tr>\n",
       "      <th>25</th>\n",
       "      <td>85</td>\n",
       "    </tr>\n",
       "    <tr>\n",
       "      <th>22</th>\n",
       "      <td>55</td>\n",
       "    </tr>\n",
       "    <tr>\n",
       "      <th>25</th>\n",
       "      <td>54</td>\n",
       "    </tr>\n",
       "  </tbody>\n",
       "</table>\n",
       "</div>"
      ],
      "text/plain": [
       "      num1\n",
       "num2      \n",
       "55      12\n",
       "25      15\n",
       "54      52\n",
       "42      85\n",
       "25      85\n",
       "22      55\n",
       "25      54"
      ]
     },
     "execution_count": 10,
     "metadata": {},
     "output_type": "execute_result"
    }
   ],
   "source": [
    "import pandas as pd\n",
    "pd.read_csv('C:\\\\Users\\\\kundrasu\\\\Documents\\\\vishal1.csv',index_col=[\"num2\"],usecols=[\"num1\",\"num2\"],nrows=7)\n"
   ]
  },
  {
   "cell_type": "code",
   "execution_count": 12,
   "id": "b4cfdb4e",
   "metadata": {},
   "outputs": [
    {
     "data": {
      "text/html": [
       "<div>\n",
       "<style scoped>\n",
       "    .dataframe tbody tr th:only-of-type {\n",
       "        vertical-align: middle;\n",
       "    }\n",
       "\n",
       "    .dataframe tbody tr th {\n",
       "        vertical-align: top;\n",
       "    }\n",
       "\n",
       "    .dataframe thead th {\n",
       "        text-align: right;\n",
       "    }\n",
       "</style>\n",
       "<table border=\"1\" class=\"dataframe\">\n",
       "  <thead>\n",
       "    <tr style=\"text-align: right;\">\n",
       "      <th></th>\n",
       "      <th>Num1</th>\n",
       "    </tr>\n",
       "    <tr>\n",
       "      <th>Num2</th>\n",
       "      <th></th>\n",
       "    </tr>\n",
       "  </thead>\n",
       "  <tbody>\n",
       "    <tr>\n",
       "      <th>33</th>\n",
       "      <td>2.000</td>\n",
       "    </tr>\n",
       "    <tr>\n",
       "      <th>44</th>\n",
       "      <td>33.500</td>\n",
       "    </tr>\n",
       "    <tr>\n",
       "      <th>55</th>\n",
       "      <td>44.500</td>\n",
       "    </tr>\n",
       "    <tr>\n",
       "      <th>66</th>\n",
       "      <td>555.600</td>\n",
       "    </tr>\n",
       "    <tr>\n",
       "      <th>77</th>\n",
       "      <td>6666.700</td>\n",
       "    </tr>\n",
       "    <tr>\n",
       "      <th>888</th>\n",
       "      <td>88880.400</td>\n",
       "    </tr>\n",
       "    <tr>\n",
       "      <th>9999</th>\n",
       "      <td>9999.333</td>\n",
       "    </tr>\n",
       "  </tbody>\n",
       "</table>\n",
       "</div>"
      ],
      "text/plain": [
       "           Num1\n",
       "Num2           \n",
       "33        2.000\n",
       "44       33.500\n",
       "55       44.500\n",
       "66      555.600\n",
       "77     6666.700\n",
       "888   88880.400\n",
       "9999   9999.333"
      ]
     },
     "execution_count": 12,
     "metadata": {},
     "output_type": "execute_result"
    }
   ],
   "source": [
    "import pandas as pd\n",
    "pd.read_csv('C:\\\\Users\\\\kundrasu\\\\Documents\\\\dat2.csv',index_col=[\"Num2\"],usecols=[\"Num1\",\"Num2\"],nrows=7)"
   ]
  },
  {
   "cell_type": "code",
   "execution_count": 15,
   "id": "37c0de32",
   "metadata": {},
   "outputs": [],
   "source": [
    "temperature=[30,31,32,33,34,35,36,37,38,39,40,41]\n",
    "months=[\"jan\",\"feb\",\"march\",\"april\",\"may\",\"june\",\"july\",\"aug\",\"sep\",\"oct\",\"nov\",\"dec\"]\n",
    "s1=pd.Series(temperature,months)"
   ]
  },
  {
   "cell_type": "code",
   "execution_count": 17,
   "id": "d149ac6e",
   "metadata": {},
   "outputs": [
    {
     "data": {
      "text/plain": [
       "jan      30\n",
       "feb      31\n",
       "march    32\n",
       "april    33\n",
       "may      34\n",
       "june     35\n",
       "july     36\n",
       "aug      37\n",
       "sep      38\n",
       "oct      39\n",
       "nov      40\n",
       "dec      41\n",
       "dtype: int64"
      ]
     },
     "execution_count": 17,
     "metadata": {},
     "output_type": "execute_result"
    }
   ],
   "source": [
    "s1"
   ]
  },
  {
   "cell_type": "code",
   "execution_count": 18,
   "id": "758517f6",
   "metadata": {},
   "outputs": [
    {
     "data": {
      "text/plain": [
       "35"
      ]
     },
     "execution_count": 18,
     "metadata": {},
     "output_type": "execute_result"
    }
   ],
   "source": [
    "s1[5]\n"
   ]
  },
  {
   "cell_type": "code",
   "execution_count": 19,
   "id": "65e400bb",
   "metadata": {},
   "outputs": [
    {
     "data": {
      "text/plain": [
       "march    32\n",
       "april    33\n",
       "may      34\n",
       "june     35\n",
       "july     36\n",
       "aug      37\n",
       "sep      38\n",
       "dtype: int64"
      ]
     },
     "execution_count": 19,
     "metadata": {},
     "output_type": "execute_result"
    }
   ],
   "source": [
    "s1[2:9]"
   ]
  },
  {
   "cell_type": "code",
   "execution_count": 20,
   "id": "0e6ed949",
   "metadata": {},
   "outputs": [
    {
     "data": {
      "text/plain": [
       "jan      300.0\n",
       "feb      310.0\n",
       "march     40.0\n",
       "april      NaN\n",
       "may      100.0\n",
       "june       NaN\n",
       "july       NaN\n",
       "aug        NaN\n",
       "sep        NaN\n",
       "oct        NaN\n",
       "nov        NaN\n",
       "dec        NaN\n",
       "dtype: float64"
      ]
     },
     "execution_count": 20,
     "metadata": {},
     "output_type": "execute_result"
    }
   ],
   "source": [
    "mapob={30:300,31:310,32:40,34:100}\n",
    "s1.map(mapob)"
   ]
  },
  {
   "cell_type": "code",
   "execution_count": null,
   "id": "923322d8",
   "metadata": {},
   "outputs": [],
   "source": []
  }
 ],
 "metadata": {
  "kernelspec": {
   "display_name": "Python 3 (ipykernel)",
   "language": "python",
   "name": "python3"
  },
  "language_info": {
   "codemirror_mode": {
    "name": "ipython",
    "version": 3
   },
   "file_extension": ".py",
   "mimetype": "text/x-python",
   "name": "python",
   "nbconvert_exporter": "python",
   "pygments_lexer": "ipython3",
   "version": "3.9.12"
  }
 },
 "nbformat": 4,
 "nbformat_minor": 5
}
