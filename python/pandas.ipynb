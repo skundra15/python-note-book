{
 "cells": [
  {
   "cell_type": "code",
   "execution_count": 1,
   "id": "9d90782b",
   "metadata": {},
   "outputs": [
    {
     "name": "stdout",
     "output_type": "stream",
     "text": [
      "[1, 2, 3, 4, 5, 6]\n"
     ]
    }
   ],
   "source": [
    "import pandas \n",
    "li=[1,2,3,4,5,6]\n",
    "print(li)"
   ]
  },
  {
   "cell_type": "code",
   "execution_count": 4,
   "id": "d28c13d5",
   "metadata": {},
   "outputs": [
    {
     "name": "stdout",
     "output_type": "stream",
     "text": [
      "Empty DataFrame\n",
      "Columns: []\n",
      "Index: []\n"
     ]
    }
   ],
   "source": [
    "import numpy as a\n",
    "import pandas as b\n",
    "df=b.DataFrame()\n",
    "print(df)"
   ]
  },
  {
   "cell_type": "code",
   "execution_count": 5,
   "id": "25ed2476",
   "metadata": {},
   "outputs": [
    {
     "name": "stdout",
     "output_type": "stream",
     "text": [
      "[1, 2, 3, 4, 'a', 2.0, 'f']\n"
     ]
    }
   ],
   "source": [
    "lst=[1,2,3,4,'a',2.0,\"f\"]\n",
    "print(lst)"
   ]
  },
  {
   "cell_type": "code",
   "execution_count": 7,
   "id": "7d638ff7",
   "metadata": {},
   "outputs": [
    {
     "name": "stdout",
     "output_type": "stream",
     "text": [
      "   0\n",
      "0  a\n",
      "1  b\n",
      "2  c\n"
     ]
    }
   ],
   "source": [
    "df=b.DataFrame(['a','b','c'])\n",
    "print(df)"
   ]
  },
  {
   "cell_type": "code",
   "execution_count": 8,
   "id": "7d14ad28",
   "metadata": {},
   "outputs": [
    {
     "name": "stdout",
     "output_type": "stream",
     "text": [
      "     0\n",
      "1    a\n",
      "2  2.0\n",
      "4    f\n"
     ]
    }
   ],
   "source": [
    "lst=['a',2.0,\"f\"]\n",
    "df=b.DataFrame(lst,index=[1,2,4])\n",
    "print(df)\n"
   ]
  },
  {
   "cell_type": "code",
   "execution_count": 9,
   "id": "cc101251",
   "metadata": {},
   "outputs": [
    {
     "name": "stdout",
     "output_type": "stream",
     "text": [
      "   0\n",
      "r  a\n",
      "t  b\n",
      "u  c\n"
     ]
    }
   ],
   "source": [
    "df=b.DataFrame(['a','b','c'], index=['r','t','u'])\n",
    "print(df)"
   ]
  },
  {
   "cell_type": "code",
   "execution_count": 10,
   "id": "e397a373",
   "metadata": {},
   "outputs": [
    {
     "name": "stdout",
     "output_type": "stream",
     "text": [
      "0 r    a\n",
      "t    b\n",
      "u    c\n",
      "Name: 0, dtype: object\n"
     ]
    }
   ],
   "source": [
    "for x , n in df.iteritems():\n",
    "    print(x,n)"
   ]
  },
  {
   "cell_type": "code",
   "execution_count": 11,
   "id": "801e6d98",
   "metadata": {},
   "outputs": [
    {
     "name": "stdout",
     "output_type": "stream",
     "text": [
      "r 0    a\n",
      "Name: r, dtype: object\n",
      "t 0    b\n",
      "Name: t, dtype: object\n",
      "u 0    c\n",
      "Name: u, dtype: object\n"
     ]
    }
   ],
   "source": [
    "for row_index,row in df.iterrows():\n",
    "    print(row_index,row)"
   ]
  },
  {
   "cell_type": "code",
   "execution_count": 13,
   "id": "d0a288a1",
   "metadata": {},
   "outputs": [
    {
     "name": "stdout",
     "output_type": "stream",
     "text": [
      "       col1      col2      col3\n",
      "6  0.627386 -1.452028 -1.163613\n",
      "7  0.172363 -0.107080 -0.879001\n",
      "8 -0.054896 -1.865015 -1.201041\n",
      "9  0.296957 -0.482067  1.516004\n"
     ]
    }
   ],
   "source": [
    "df= b.DataFrame(a.random.randn(4,3),index=[6,7,8,9],columns=['col1','col2','col3'])\n",
    "print(df)"
   ]
  },
  {
   "cell_type": "code",
   "execution_count": 14,
   "id": "a359cc1d",
   "metadata": {},
   "outputs": [
    {
     "name": "stdout",
     "output_type": "stream",
     "text": [
      "6 col1    0.627386\n",
      "col2   -1.452028\n",
      "col3   -1.163613\n",
      "Name: 6, dtype: float64\n",
      "7 col1    0.172363\n",
      "col2   -0.107080\n",
      "col3   -0.879001\n",
      "Name: 7, dtype: float64\n",
      "8 col1   -0.054896\n",
      "col2   -1.865015\n",
      "col3   -1.201041\n",
      "Name: 8, dtype: float64\n",
      "9 col1    0.296957\n",
      "col2   -0.482067\n",
      "col3    1.516004\n",
      "Name: 9, dtype: float64\n"
     ]
    }
   ],
   "source": [
    "for row_index,row in df.iterrows():\n",
    "    print(row_index,row)"
   ]
  },
  {
   "cell_type": "code",
   "execution_count": 15,
   "id": "44b7fb2f",
   "metadata": {},
   "outputs": [
    {
     "name": "stdout",
     "output_type": "stream",
     "text": [
      "col1 6    0.627386\n",
      "7    0.172363\n",
      "8   -0.054896\n",
      "9    0.296957\n",
      "Name: col1, dtype: float64\n",
      "col2 6   -1.452028\n",
      "7   -0.107080\n",
      "8   -1.865015\n",
      "9   -0.482067\n",
      "Name: col2, dtype: float64\n",
      "col3 6   -1.163613\n",
      "7   -0.879001\n",
      "8   -1.201041\n",
      "9    1.516004\n",
      "Name: col3, dtype: float64\n"
     ]
    }
   ],
   "source": [
    "for row_index,row in df.iteritems():\n",
    "    print(row_index,row)"
   ]
  },
  {
   "cell_type": "code",
   "execution_count": 16,
   "id": "6848e4e7",
   "metadata": {},
   "outputs": [
    {
     "name": "stdout",
     "output_type": "stream",
     "text": [
      "Pandas(Index=6, col1=0.6273862589661107, col2=-1.4520277323768491, col3=-1.163613466511375)\n",
      "Pandas(Index=7, col1=0.17236335414447723, col2=-0.10708047909174641, col3=-0.8790008036761688)\n",
      "Pandas(Index=8, col1=-0.054895534279245, col2=-1.8650150520617637, col3=-1.201041090764548)\n",
      "Pandas(Index=9, col1=0.2969566375538784, col2=-0.48206652241974884, col3=1.5160043376374808)\n"
     ]
    }
   ],
   "source": [
    "for row in df.itertuples():\n",
    "    print(row)"
   ]
  },
  {
   "cell_type": "code",
   "execution_count": 18,
   "id": "48358f8e",
   "metadata": {},
   "outputs": [
    {
     "name": "stdout",
     "output_type": "stream",
     "text": [
      "1.4.2\n"
     ]
    }
   ],
   "source": [
    "import pandas as b\n",
    "print(b.__version__)"
   ]
  },
  {
   "cell_type": "code",
   "execution_count": 19,
   "id": "3fe7f404",
   "metadata": {},
   "outputs": [
    {
     "name": "stdout",
     "output_type": "stream",
     "text": [
      "{'a': ['a', 'b', 'c'], 'b': [1, 2, 3], 'c': [2014, 2015, 2016], 'd': ['aa', 'bb', 'yy']}\n"
     ]
    }
   ],
   "source": [
    "A={'a':['a','b','c'],'b':[1,2,3],'c':[2014,2015,2016],'d':['aa','bb','yy']}\n",
    "print(A)"
   ]
  },
  {
   "cell_type": "code",
   "execution_count": 20,
   "id": "e4c8ed47",
   "metadata": {},
   "outputs": [
    {
     "name": "stdout",
     "output_type": "stream",
     "text": [
      "   a  b     c   d\n",
      "0  a  1  2014  aa\n",
      "1  b  2  2015  bb\n",
      "2  c  3  2016  yy\n"
     ]
    }
   ],
   "source": [
    "df=b.DataFrame(A)\n",
    "print(df)"
   ]
  },
  {
   "cell_type": "code",
   "execution_count": 21,
   "id": "65ce271e",
   "metadata": {},
   "outputs": [
    {
     "name": "stdout",
     "output_type": "stream",
     "text": [
      "   a  b     c   d\n",
      "1  a  1  2014  aa\n",
      "2  b  2  2015  bb\n",
      "4  c  3  2016  yy\n"
     ]
    }
   ],
   "source": [
    "df=b.DataFrame(A)\n",
    "df=b.DataFrame(A,index=[1,2,4])\n",
    "print(df)"
   ]
  },
  {
   "cell_type": "code",
   "execution_count": 28,
   "id": "b385fcb8",
   "metadata": {},
   "outputs": [],
   "source": [
    "listdic=[{'a':['a','b','c']},{'b':[1,2,3]},{'c': ['aa','bb','cc'] } ]"
   ]
  },
  {
   "cell_type": "code",
   "execution_count": 31,
   "id": "449b21ab",
   "metadata": {},
   "outputs": [
    {
     "name": "stdout",
     "output_type": "stream",
     "text": [
      "             a   b     c\n",
      "first   [1, 2]   2   NaN\n",
      "second       5  10  20.0\n"
     ]
    }
   ],
   "source": [
    "data=[{'a':[1,2],'b':2},{'a':5,'b':10,'c':20}]\n",
    "df=b.DataFrame(data,index=['first','second'])\n",
    "print(df)"
   ]
  },
  {
   "cell_type": "code",
   "execution_count": 32,
   "id": "a028d8a6",
   "metadata": {},
   "outputs": [
    {
     "name": "stdout",
     "output_type": "stream",
     "text": [
      "   0  1  2\n",
      "m  1  2  3\n",
      "n  a  b  c\n"
     ]
    },
    {
     "name": "stderr",
     "output_type": "stream",
     "text": [
      "C:\\Users\\kundrasu\\AppData\\Local\\Temp\\ipykernel_22868\\2433439046.py:3: FutureWarning: Could not cast to float64, falling back to object. This behavior is deprecated. In a future version, when a dtype is passed to 'DataFrame', either all columns will be cast to that dtype, or a TypeError will be raised.\n",
      "  df=b.DataFrame(lst,index=['m','n'],dtype=float)\n"
     ]
    }
   ],
   "source": [
    "#df using list \n",
    "lst=[[1,2,3],['a','b','c']]\n",
    "df=b.DataFrame(lst,index=['m','n'],dtype=float)\n",
    "print(df)"
   ]
  },
  {
   "cell_type": "code",
   "execution_count": 33,
   "id": "07d3e704",
   "metadata": {},
   "outputs": [
    {
     "name": "stdout",
     "output_type": "stream",
     "text": [
      "   0  1  2\n",
      "m  a  b  c\n",
      "n  1  2  3\n"
     ]
    },
    {
     "name": "stderr",
     "output_type": "stream",
     "text": [
      "C:\\Users\\kundrasu\\AppData\\Local\\Temp\\ipykernel_22868\\3398364891.py:2: FutureWarning: Could not cast to float64, falling back to object. This behavior is deprecated. In a future version, when a dtype is passed to 'DataFrame', either all columns will be cast to that dtype, or a TypeError will be raised.\n",
      "  df=b.DataFrame(lst,index=['m','n'],dtype=float)\n"
     ]
    }
   ],
   "source": [
    "lst=[['a','b','c'],[1,2,3]]\n",
    "df=b.DataFrame(lst,index=['m','n'],dtype=float)\n",
    "print(df)"
   ]
  },
  {
   "cell_type": "code",
   "execution_count": 36,
   "id": "a78583c9",
   "metadata": {},
   "outputs": [
    {
     "name": "stdout",
     "output_type": "stream",
     "text": [
      "   a  b  c\n",
      "0  a  b  c\n",
      "1  1  2  3\n"
     ]
    },
    {
     "name": "stderr",
     "output_type": "stream",
     "text": [
      "C:\\Users\\kundrasu\\AppData\\Local\\Temp\\ipykernel_22868\\4194818824.py:2: FutureWarning: Could not cast to float64, falling back to object. This behavior is deprecated. In a future version, when a dtype is passed to 'DataFrame', either all columns will be cast to that dtype, or a TypeError will be raised.\n",
      "  df=b.DataFrame(lst,columns=['a','b','c'],dtype=float)\n"
     ]
    }
   ],
   "source": [
    "lst=[['a','b','c'],[1,2,3]]\n",
    "df=b.DataFrame(lst,columns=['a','b','c'],dtype=float)\n",
    "print(df)\n"
   ]
  },
  {
   "cell_type": "code",
   "execution_count": 38,
   "id": "ee12cf4d",
   "metadata": {},
   "outputs": [
    {
     "name": "stdout",
     "output_type": "stream",
     "text": [
      "     name   age\n",
      "0    alex  10.0\n",
      "1     bob  12.0\n",
      "2  clarke  13.0\n"
     ]
    },
    {
     "name": "stderr",
     "output_type": "stream",
     "text": [
      "C:\\Users\\kundrasu\\AppData\\Local\\Temp\\ipykernel_22868\\1762336010.py:2: FutureWarning: Could not cast to float64, falling back to object. This behavior is deprecated. In a future version, when a dtype is passed to 'DataFrame', either all columns will be cast to that dtype, or a TypeError will be raised.\n",
      "  df=b.DataFrame(dd,columns=['name','age'],dtype=float)\n"
     ]
    }
   ],
   "source": [
    "dd=[['alex',10],['bob',12],['clarke',13]]\n",
    "df=b.DataFrame(dd,columns=['name','age'],dtype=float)\n",
    "print(df)"
   ]
  },
  {
   "cell_type": "code",
   "execution_count": 39,
   "id": "d8766ac5",
   "metadata": {},
   "outputs": [
    {
     "name": "stdout",
     "output_type": "stream",
     "text": [
      "   name     age\n",
      "5  10.0    alex\n",
      "6  12.0     bob\n",
      "7  13.0  clarke\n"
     ]
    },
    {
     "name": "stderr",
     "output_type": "stream",
     "text": [
      "C:\\Users\\kundrasu\\AppData\\Local\\Temp\\ipykernel_22868\\4122967739.py:2: FutureWarning: Could not cast to float64, falling back to object. This behavior is deprecated. In a future version, when a dtype is passed to 'DataFrame', either all columns will be cast to that dtype, or a TypeError will be raised.\n",
      "  df=b.DataFrame(dd,columns=['name','age'],index=[5,6,7],dtype=float)\n"
     ]
    }
   ],
   "source": [
    "dd=[[10,'alex'],[12,'bob'],[13,'clarke']]\n",
    "df=b.DataFrame(dd,columns=['name','age'],index=[5,6,7],dtype=float)\n",
    "print(df)"
   ]
  },
  {
   "cell_type": "code",
   "execution_count": 40,
   "id": "4d5f2a53",
   "metadata": {},
   "outputs": [
    {
     "name": "stdout",
     "output_type": "stream",
     "text": [
      "   name     age   new\n",
      "5  10.0    alex  20.0\n",
      "6  12.0     bob  30.0\n",
      "7  13.0  clarke  40.0\n"
     ]
    },
    {
     "name": "stderr",
     "output_type": "stream",
     "text": [
      "C:\\Users\\kundrasu\\AppData\\Local\\Temp\\ipykernel_22868\\1883995096.py:2: FutureWarning: Could not cast to float64, falling back to object. This behavior is deprecated. In a future version, when a dtype is passed to 'DataFrame', either all columns will be cast to that dtype, or a TypeError will be raised.\n",
      "  df2=b.DataFrame(dd,columns=['name','age','new'],index=[5,6,7],dtype=float)\n"
     ]
    }
   ],
   "source": [
    "dd=[[10,'alex',20],[12,'bob',30],[13,'clarke',40]]\n",
    "df2=b.DataFrame(dd,columns=['name','age','new'],index=[5,6,7],dtype=float)\n",
    "print(df2)"
   ]
  },
  {
   "cell_type": "code",
   "execution_count": null,
   "id": "fe713959",
   "metadata": {},
   "outputs": [],
   "source": []
  }
 ],
 "metadata": {
  "kernelspec": {
   "display_name": "Python 3 (ipykernel)",
   "language": "python",
   "name": "python3"
  },
  "language_info": {
   "codemirror_mode": {
    "name": "ipython",
    "version": 3
   },
   "file_extension": ".py",
   "mimetype": "text/x-python",
   "name": "python",
   "nbconvert_exporter": "python",
   "pygments_lexer": "ipython3",
   "version": "3.9.12"
  }
 },
 "nbformat": 4,
 "nbformat_minor": 5
}
