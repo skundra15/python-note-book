{
 "cells": [
  {
   "cell_type": "code",
   "execution_count": 4,
   "id": "83ae4fdd",
   "metadata": {},
   "outputs": [
    {
     "name": "stdout",
     "output_type": "stream",
     "text": [
      "       arae      food\n",
      "0  new-york     pizza\n",
      "1   columbo     crabs\n",
      "2    mumbai  vada-paw\n"
     ]
    }
   ],
   "source": [
    "import pandas as pd \n",
    "location =pd.DataFrame({'arae':['new-york','columbo','mumbai']})\n",
    "food =pd.DataFrame({'food':['pizza','crabs','vada-paw']})\n",
    "det=pd.concat([location,food],join='outer',axis=1)\n",
    "print(det)"
   ]
  },
  {
   "cell_type": "code",
   "execution_count": 8,
   "id": "43606798",
   "metadata": {},
   "outputs": [],
   "source": [
    "engg=pd.read_csv('C:\\\\Users\\\\kundrasu\\\\Documents\\\\dat2.csv')\n",
    "sci=pd.read_csv('C:\\\\Users\\\\kundrasu\\\\Documents\\\\dat2.csv')\n",
    "exam=pd.read_csv('C:\\\\Users\\\\kundrasu\\\\Documents\\\\dat2.csv')\n",
    "student_exam=pd.read_csv('C:\\\\Users\\\\kundrasu\\\\Documents\\\\dat2.csv')"
   ]
  },
  {
   "cell_type": "code",
   "execution_count": 9,
   "id": "1e9fd311",
   "metadata": {},
   "outputs": [
    {
     "data": {
      "text/html": [
       "<div>\n",
       "<style scoped>\n",
       "    .dataframe tbody tr th:only-of-type {\n",
       "        vertical-align: middle;\n",
       "    }\n",
       "\n",
       "    .dataframe tbody tr th {\n",
       "        vertical-align: top;\n",
       "    }\n",
       "\n",
       "    .dataframe thead th {\n",
       "        text-align: right;\n",
       "    }\n",
       "</style>\n",
       "<table border=\"1\" class=\"dataframe\">\n",
       "  <thead>\n",
       "    <tr style=\"text-align: right;\">\n",
       "      <th></th>\n",
       "      <th>ind</th>\n",
       "      <th>Num1</th>\n",
       "      <th>Num2</th>\n",
       "    </tr>\n",
       "  </thead>\n",
       "  <tbody>\n",
       "    <tr>\n",
       "      <th>0</th>\n",
       "      <td>1</td>\n",
       "      <td>2.000</td>\n",
       "      <td>33</td>\n",
       "    </tr>\n",
       "    <tr>\n",
       "      <th>1</th>\n",
       "      <td>2</td>\n",
       "      <td>33.500</td>\n",
       "      <td>44</td>\n",
       "    </tr>\n",
       "    <tr>\n",
       "      <th>2</th>\n",
       "      <td>3</td>\n",
       "      <td>44.500</td>\n",
       "      <td>55</td>\n",
       "    </tr>\n",
       "    <tr>\n",
       "      <th>3</th>\n",
       "      <td>4</td>\n",
       "      <td>555.600</td>\n",
       "      <td>66</td>\n",
       "    </tr>\n",
       "    <tr>\n",
       "      <th>4</th>\n",
       "      <td>5</td>\n",
       "      <td>6666.700</td>\n",
       "      <td>77</td>\n",
       "    </tr>\n",
       "    <tr>\n",
       "      <th>5</th>\n",
       "      <td>6</td>\n",
       "      <td>88880.400</td>\n",
       "      <td>888</td>\n",
       "    </tr>\n",
       "    <tr>\n",
       "      <th>6</th>\n",
       "      <td>7</td>\n",
       "      <td>9999.333</td>\n",
       "      <td>9999</td>\n",
       "    </tr>\n",
       "  </tbody>\n",
       "</table>\n",
       "</div>"
      ],
      "text/plain": [
       "   ind       Num1  Num2\n",
       "0    1      2.000    33\n",
       "1    2     33.500    44\n",
       "2    3     44.500    55\n",
       "3    4    555.600    66\n",
       "4    5   6666.700    77\n",
       "5    6  88880.400   888\n",
       "6    7   9999.333  9999"
      ]
     },
     "execution_count": 9,
     "metadata": {},
     "output_type": "execute_result"
    }
   ],
   "source": [
    "student_exam"
   ]
  },
  {
   "cell_type": "code",
   "execution_count": 11,
   "id": "c5be4049",
   "metadata": {},
   "outputs": [
    {
     "data": {
      "text/html": [
       "<div>\n",
       "<style scoped>\n",
       "    .dataframe tbody tr th:only-of-type {\n",
       "        vertical-align: middle;\n",
       "    }\n",
       "\n",
       "    .dataframe tbody tr th {\n",
       "        vertical-align: top;\n",
       "    }\n",
       "\n",
       "    .dataframe thead th {\n",
       "        text-align: right;\n",
       "    }\n",
       "</style>\n",
       "<table border=\"1\" class=\"dataframe\">\n",
       "  <thead>\n",
       "    <tr style=\"text-align: right;\">\n",
       "      <th></th>\n",
       "      <th>ind_x</th>\n",
       "      <th>Num1_x</th>\n",
       "      <th>Num2</th>\n",
       "      <th>ind_y</th>\n",
       "      <th>Num1_y</th>\n",
       "    </tr>\n",
       "  </thead>\n",
       "  <tbody>\n",
       "    <tr>\n",
       "      <th>0</th>\n",
       "      <td>1</td>\n",
       "      <td>2.000</td>\n",
       "      <td>33</td>\n",
       "      <td>1</td>\n",
       "      <td>2.000</td>\n",
       "    </tr>\n",
       "    <tr>\n",
       "      <th>1</th>\n",
       "      <td>2</td>\n",
       "      <td>33.500</td>\n",
       "      <td>44</td>\n",
       "      <td>2</td>\n",
       "      <td>33.500</td>\n",
       "    </tr>\n",
       "    <tr>\n",
       "      <th>2</th>\n",
       "      <td>3</td>\n",
       "      <td>44.500</td>\n",
       "      <td>55</td>\n",
       "      <td>3</td>\n",
       "      <td>44.500</td>\n",
       "    </tr>\n",
       "    <tr>\n",
       "      <th>3</th>\n",
       "      <td>4</td>\n",
       "      <td>555.600</td>\n",
       "      <td>66</td>\n",
       "      <td>4</td>\n",
       "      <td>555.600</td>\n",
       "    </tr>\n",
       "    <tr>\n",
       "      <th>4</th>\n",
       "      <td>5</td>\n",
       "      <td>6666.700</td>\n",
       "      <td>77</td>\n",
       "      <td>5</td>\n",
       "      <td>6666.700</td>\n",
       "    </tr>\n",
       "    <tr>\n",
       "      <th>5</th>\n",
       "      <td>6</td>\n",
       "      <td>88880.400</td>\n",
       "      <td>888</td>\n",
       "      <td>6</td>\n",
       "      <td>88880.400</td>\n",
       "    </tr>\n",
       "    <tr>\n",
       "      <th>6</th>\n",
       "      <td>7</td>\n",
       "      <td>9999.333</td>\n",
       "      <td>9999</td>\n",
       "      <td>7</td>\n",
       "      <td>9999.333</td>\n",
       "    </tr>\n",
       "  </tbody>\n",
       "</table>\n",
       "</div>"
      ],
      "text/plain": [
       "   ind_x     Num1_x  Num2  ind_y     Num1_y\n",
       "0      1      2.000    33      1      2.000\n",
       "1      2     33.500    44      2     33.500\n",
       "2      3     44.500    55      3     44.500\n",
       "3      4    555.600    66      4    555.600\n",
       "4      5   6666.700    77      5   6666.700\n",
       "5      6  88880.400   888      6  88880.400\n",
       "6      7   9999.333  9999      7   9999.333"
      ]
     },
     "execution_count": 11,
     "metadata": {},
     "output_type": "execute_result"
    }
   ],
   "source": [
    "student_exam.merge(engg,on='Num2')"
   ]
  },
  {
   "cell_type": "code",
   "execution_count": null,
   "id": "b599ae8d",
   "metadata": {},
   "outputs": [],
   "source": []
  }
 ],
 "metadata": {
  "kernelspec": {
   "display_name": "Python 3 (ipykernel)",
   "language": "python",
   "name": "python3"
  },
  "language_info": {
   "codemirror_mode": {
    "name": "ipython",
    "version": 3
   },
   "file_extension": ".py",
   "mimetype": "text/x-python",
   "name": "python",
   "nbconvert_exporter": "python",
   "pygments_lexer": "ipython3",
   "version": "3.9.12"
  }
 },
 "nbformat": 4,
 "nbformat_minor": 5
}
