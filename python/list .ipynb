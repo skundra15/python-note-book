{
 "cells": [
  {
   "cell_type": "code",
   "execution_count": 5,
   "id": "3af32ff8",
   "metadata": {},
   "outputs": [
    {
     "name": "stdout",
     "output_type": "stream",
     "text": [
      "['apple', 'banana', 'cherry']\n",
      "['apple', 'banana', 'cherry']\n",
      "3\n"
     ]
    }
   ],
   "source": [
    "mylist = [\"apple\",\"banana\",\"cherry\"]\n",
    "print (mylist)\n",
    "thislist=list ((\"apple\",\"banana\",\"cherry\"))\n",
    "print(thislist)\n",
    "print (len(thislist))\n"
   ]
  },
  {
   "cell_type": "code",
   "execution_count": 69,
   "id": "1bb1de8e",
   "metadata": {},
   "outputs": [],
   "source": [
    "list1=[\"apple\",\"banana\",\"cherry\"]\n",
    "list2=[1,2,3,4]\n",
    "list3=[True,False,True]\n",
    "fruits=[\"apple\",\"banana\",\"mango\",\"kiwi\"]\n",
    "newlist=[x if x!=\"banana\"else\"orange\" for x in fruits]\n"
   ]
  },
  {
   "cell_type": "code",
   "execution_count": 70,
   "id": "0003415c",
   "metadata": {},
   "outputs": [
    {
     "name": "stdout",
     "output_type": "stream",
     "text": [
      "['apple', 'banana', 'cherry']\n",
      "[1, 2, 3, 4]\n",
      "[True, False, True]\n",
      "['apple', 'orange', 'mango', 'kiwi']\n"
     ]
    }
   ],
   "source": [
    "print(list1)\n",
    "print(list2)\n",
    "print(list3)\n",
    "print(newlist)"
   ]
  },
  {
   "cell_type": "code",
   "execution_count": 24,
   "id": "62ccbcbc",
   "metadata": {},
   "outputs": [
    {
     "name": "stdout",
     "output_type": "stream",
     "text": [
      "[2, 3, 4, 2, 3, 4]\n",
      "['a', 'b', 'c', 2, 3, 4]\n",
      "6\n",
      "6\n",
      "3\n",
      "3\n"
     ]
    }
   ],
   "source": [
    "list1=[\"a\",\"b\",\"c\"]\n",
    "list2=[2,3,4]\n",
    "\n",
    "list4=list2*2\n",
    "list5=list1+list2\n",
    "print (list4)\n",
    "print(list5)\n",
    "print(len(list5))\n",
    "print(len(list4))\n",
    "print(len(list1))\n",
    "print(len(list2))\n"
   ]
  },
  {
   "cell_type": "code",
   "execution_count": 36,
   "id": "d2c84e04",
   "metadata": {},
   "outputs": [
    {
     "name": "stdout",
     "output_type": "stream",
     "text": [
      "['phy', 'chem', 1197]\n",
      "[1, 2, 3, 4, 5]\n",
      "[9, 10]\n",
      "[0, 1, 2, 3, 4, 5, 6, 7, 8]\n",
      "[2, 3, 4, 5, 6, 7, 8, 9, 10]\n"
     ]
    }
   ],
   "source": [
    "list1=['phy','chem',1197,2000]\n",
    "list2=[0,1,2,3,4,5,6,7,8,9,10]\n",
    "print(list1[:3])\n",
    "print(list2[1:6])\n",
    "print(list2[-2:])\n",
    "print(list2[:-2])\n",
    "print(list2[2:])"
   ]
  },
  {
   "cell_type": "code",
   "execution_count": 42,
   "id": "84144ef1",
   "metadata": {},
   "outputs": [
    {
     "name": "stdout",
     "output_type": "stream",
     "text": [
      "1197\n",
      "2001\n",
      "['phy', 'chem', 2001, 2000]\n"
     ]
    }
   ],
   "source": [
    "l=['phy','chem',1197,2000]\n",
    "print(l[2])\n",
    "l[2]=2001\n",
    "print(l[2])\n",
    "print(l)"
   ]
  },
  {
   "cell_type": "code",
   "execution_count": 43,
   "id": "0e552281",
   "metadata": {},
   "outputs": [
    {
     "name": "stdout",
     "output_type": "stream",
     "text": [
      "after del the list\n",
      "['phy', 2001, 2000]\n"
     ]
    }
   ],
   "source": [
    "del l[1]\n",
    "print (\"after del the list\")\n",
    "print(l)"
   ]
  },
  {
   "cell_type": "code",
   "execution_count": 46,
   "id": "85bc711a",
   "metadata": {},
   "outputs": [
    {
     "name": "stdout",
     "output_type": "stream",
     "text": [
      "phy\n",
      "chem\n",
      "1197\n",
      "2000\n"
     ]
    }
   ],
   "source": [
    "l=['phy','chem',1197,2000]\n",
    "for x in l:\n",
    "    print(x)"
   ]
  },
  {
   "cell_type": "code",
   "execution_count": 52,
   "id": "ea51409d",
   "metadata": {},
   "outputs": [
    {
     "name": "stdout",
     "output_type": "stream",
     "text": [
      "list[0]\n",
      "list[1]\n",
      "list[2]\n",
      "list[3]\n",
      "list[4]\n",
      "list[5]\n",
      "list[6]\n",
      "list[7]\n",
      "list[8]\n",
      "list[9]\n",
      "list[10]\n"
     ]
    }
   ],
   "source": [
    "list2=[0,1,2,3,4,5,6,7,8,9,'suryansh']\n",
    "for x in range(len(list2)):\n",
    "    print(list[x])\n",
    "   "
   ]
  },
  {
   "cell_type": "code",
   "execution_count": 57,
   "id": "9bf74871",
   "metadata": {},
   "outputs": [
    {
     "name": "stdout",
     "output_type": "stream",
     "text": [
      "ritik\n",
      "1\n",
      "2\n",
      "3\n",
      "4\n",
      "5\n",
      "antriksh\n",
      "7\n",
      "8\n",
      "9\n",
      "suryansh\n"
     ]
    }
   ],
   "source": [
    "l2=['ritik',1,2,3,4,5,'antriksh',7,8,9,'suryansh']\n",
    "i =0\n",
    "while i<len(l2):\n",
    "    print(l2[i])\n",
    "    i=i+1"
   ]
  },
  {
   "cell_type": "code",
   "execution_count": 60,
   "id": "cbb7aa61",
   "metadata": {},
   "outputs": [
    {
     "name": "stdout",
     "output_type": "stream",
     "text": [
      "['a', 'b', 'c', 1]\n",
      "['a', 'b', 'c', 1, 69]\n",
      "['a', 'b', 'c', 1, 69, 96]\n"
     ]
    }
   ],
   "source": [
    "a=[\"a\",\"b\",\"c\"]\n",
    "b=[1,69,96]\n",
    "for x in b:\n",
    "    a.append(x)\n",
    "    print(a)"
   ]
  },
  {
   "cell_type": "code",
   "execution_count": 75,
   "id": "c1c3bce7",
   "metadata": {},
   "outputs": [
    {
     "name": "stdout",
     "output_type": "stream",
     "text": [
      "[0, 1, 2, 3, 4, 5, 6, 7, 8, 9] [0, 1, 2, 3, 4] ['APPLE', 'BANANA', 'MANGO', 'KIWI']\n",
      "['APPLE', 'BANANA', 'MANGO', 'KIWI'] ['hello', 'hello', 'hello', 'hello'] ['apple', 'orange', 'mango', 'kiwi']\n"
     ]
    }
   ],
   "source": [
    "fruits=[\"apple\",\"banana\",\"mango\",\"kiwi\"]\n",
    "a1=[x for x in range(10)]\n",
    "a2=[x for x in range(10) if x<5]\n",
    "a3=[x.upper() for x in fruits]\n",
    "\n",
    "print(a1,a2,a3)\n",
    "\n",
    "\n",
    "a0=[x.upper() for x in fruits]\n",
    "a01=[\"hello\" for x in fruits]\n",
    "a02=[x if x!=\"banana\"else\"orange\" for x in fruits]\n",
    "print(a0,a01,a02)"
   ]
  },
  {
   "cell_type": "code",
   "execution_count": 76,
   "id": "c58dc4be",
   "metadata": {},
   "outputs": [
    {
     "name": "stdout",
     "output_type": "stream",
     "text": [
      "banana\n",
      "kiwi\n",
      "['mango', 'kiwi']\n",
      "['apple', 'banana', 'mango', 'kiwi']\n",
      "['mango', 'kiwi']\n"
     ]
    }
   ],
   "source": [
    "fruits=[\"apple\",\"banana\",\"mango\",\"kiwi\"]\n",
    "print(fruits[1])\n",
    "\n",
    "fruits=[\"apple\",\"banana\",\"mango\",\"kiwi\"]\n",
    "print(fruits[-1])\n",
    "\n",
    "fruits=[\"apple\",\"banana\",\"mango\",\"kiwi\"]\n",
    "print(fruits[2:5])\n",
    "\n",
    "fruits=[\"apple\",\"banana\",\"mango\",\"kiwi\"]\n",
    "print(fruits[:4])\n",
    "\n",
    "fruits=[\"apple\",\"banana\",\"mango\",\"kiwi\"]\n",
    "print(fruits[2:])"
   ]
  },
  {
   "cell_type": "code",
   "execution_count": 77,
   "id": "92750e50",
   "metadata": {},
   "outputs": [
    {
     "name": "stdout",
     "output_type": "stream",
     "text": [
      "['apple', 'banana', 'mango']\n"
     ]
    }
   ],
   "source": [
    "fruits=[\"apple\",\"banana\",\"mango\",\"kiwi\"]\n",
    "f=[x for x in fruits if \"a\" in x]\n",
    "print(f)"
   ]
  },
  {
   "cell_type": "code",
   "execution_count": 5,
   "id": "82e988c9",
   "metadata": {},
   "outputs": [
    {
     "name": "stdout",
     "output_type": "stream",
     "text": [
      "\n",
      " ['python', '.net', 'java']\n",
      "\n",
      " ['python', '.net', 'java', 'c', 'c#']\n",
      "\n",
      " ['python', 'c', '.net', 'java', 'c', 'c#']\n",
      "\n",
      " ['python', '.net', 'java', 'c', 'c#']\n",
      "\n",
      " ['.net', 'c', 'c#', 'java', 'python']\n",
      "\n",
      " ['c#', 'c', 'java', '.net', 'python']\n"
     ]
    }
   ],
   "source": [
    "a=[\"python\",\".net\"]\n",
    "a.append(\"java\")\n",
    "print(\"\\n\",a)\n",
    "a.extend([\"c\",\"c#\"])\n",
    "print(\"\\n\",a)\n",
    "a.insert(1,\"c\")\n",
    "print(\"\\n\",a)\n",
    "a.remove(\"c\")\n",
    "print(\"\\n\",a)\n",
    "print(\"\\n\",sorted(a))\n",
    "print(\"\\n\",a[::-1])"
   ]
  },
  {
   "cell_type": "code",
   "execution_count": null,
   "id": "d37247d2",
   "metadata": {},
   "outputs": [],
   "source": []
  }
 ],
 "metadata": {
  "kernelspec": {
   "display_name": "Python 3 (ipykernel)",
   "language": "python",
   "name": "python3"
  },
  "language_info": {
   "codemirror_mode": {
    "name": "ipython",
    "version": 3
   },
   "file_extension": ".py",
   "mimetype": "text/x-python",
   "name": "python",
   "nbconvert_exporter": "python",
   "pygments_lexer": "ipython3",
   "version": "3.9.12"
  },
  "vscode": {
   "interpreter": {
    "hash": "6556e15c06d0042ae05a8b7d634eb8b4b51f84f9b3523931b115696128d62692"
   }
  }
 },
 "nbformat": 4,
 "nbformat_minor": 5
}
