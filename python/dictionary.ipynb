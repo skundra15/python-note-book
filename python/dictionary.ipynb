{
 "cells": [
  {
   "cell_type": "code",
   "execution_count": null,
   "id": "5feb304e",
   "metadata": {},
   "outputs": [],
   "source": [
    "car={\n",
    "    \"barnd\":\"forrd\",\n",
    "    \"model\":\"mustang\",\n",
    "    \"year\":1964\n",
    "}\n",
    "print(car[\"year\"])\n",
    "car"
   ]
  },
  {
   "cell_type": "code",
   "execution_count": null,
   "id": "2fcef231",
   "metadata": {},
   "outputs": [],
   "source": [
    "car={\n",
    "    \"barnd\":\"forrd\",\n",
    "    \"model\":\"mustang\",\n",
    "    \"year\":1964,\n",
    "    \"year\":2020\n",
    "}\n",
    "print(car)"
   ]
  },
  {
   "cell_type": "code",
   "execution_count": null,
   "id": "939591c6",
   "metadata": {},
   "outputs": [],
   "source": [
    "car={\n",
    "    \"barnd\":\"forrd\",\n",
    "    \"model\":\"mustang\",\n",
    "    \"year\":1964,\n",
    "    \"electri\":False,\n",
    "  \n",
    "    \"colors\":[\"red\",\"yellow\",\"blue\"]\n",
    "}\n",
    "print(car)"
   ]
  },
  {
   "cell_type": "code",
   "execution_count": null,
   "id": "33293634",
   "metadata": {},
   "outputs": [],
   "source": [
    "car={\n",
    "    \"barnd\":\"forrd\",\n",
    "    \"model\":\"mustang\",\n",
    "    \"year\":1964\n",
    "}\n",
    "x=car.keys()\n",
    "print(x)\n",
    "car[\"colors\"]=\"white\"\n",
    "print(x)"
   ]
  },
  {
   "cell_type": "code",
   "execution_count": null,
   "id": "8a779430",
   "metadata": {},
   "outputs": [],
   "source": [
    "car={\n",
    "    \"barnd\":\"forrd\",\n",
    "    \"model\":\"mustang\",\n",
    "    \"year\":1964\n",
    "}\n",
    "x=car.values()\n",
    "print(x)\n",
    "car[\"year\"]=2000\n",
    "print (x)"
   ]
  },
  {
   "cell_type": "code",
   "execution_count": null,
   "id": "e224b55b",
   "metadata": {},
   "outputs": [],
   "source": [
    "dic={}\n",
    "dict1={1:\"apple\",2:\"ball\"}\n",
    "dict2={\"name\":\"john\",1:[2,4,3]}\n",
    "dict3=dict({1:\"apple\",2:\"ball\"})\n",
    "dict4=dict([(1,'apple'),(2,'ball')])\n",
    "print(dict1,dict2,dict3,dict4)"
   ]
  },
  {
   "cell_type": "code",
   "execution_count": null,
   "id": "04f2e1de",
   "metadata": {},
   "outputs": [],
   "source": [
    "d={\"name\":\"jack\",\"age\":26}\n",
    "print(d[\"name\"])\n",
    "print(d[\"age\"])\n",
    "print(d.get(\"add\"))\n",
    "print(d['add'])  #key error"
   ]
  },
  {
   "cell_type": "code",
   "execution_count": null,
   "id": "7bd26dd1",
   "metadata": {},
   "outputs": [],
   "source": [
    "marks={}.fromkeys(['maths','english','sci'])\n",
    "print(marks)\n",
    "for item in marks.items():\n",
    "                  print(item)\n",
    "print(list(sorted(marks.keys())))"
   ]
  },
  {
   "cell_type": "code",
   "execution_count": null,
   "id": "34f25a79",
   "metadata": {},
   "outputs": [],
   "source": [
    "seq={x:x*x for x in range(6)}\n",
    "print(seq)\n",
    "seq={}\n",
    "for x in range(6):\n",
    "    seq[x]=x*x\n",
    "    print(seq)"
   ]
  },
  {
   "cell_type": "code",
   "execution_count": null,
   "id": "5a3940f4",
   "metadata": {},
   "outputs": [],
   "source": [
    "odd_seq={x: x*x for x in range(11) if x%2==1}\n",
    "print(odd_seq)"
   ]
  },
  {
   "cell_type": "code",
   "execution_count": null,
   "id": "fc033d25",
   "metadata": {},
   "outputs": [],
   "source": [
    "seq={1: 1, 3: 9, 5: 25, 7: 49, 9: 81}\n",
    "print(1 in seq)\n",
    "print(2 not in seq)\n",
    "print(81 in seq)"
   ]
  },
  {
   "cell_type": "code",
   "execution_count": 6,
   "id": "c6d63584",
   "metadata": {},
   "outputs": [
    {
     "name": "stdout",
     "output_type": "stream",
     "text": [
      "{'name': 'dionyisa', 'age': 28, 'location': 'athens'}\n"
     ]
    }
   ],
   "source": [
    "d={'name':'dionyisa','age':28,'location':'athens'}\n",
    "print(d)\n"
   ]
  },
  {
   "cell_type": "code",
   "execution_count": 5,
   "id": "0e58db8e",
   "metadata": {},
   "outputs": [
    {
     "name": "stdout",
     "output_type": "stream",
     "text": [
      "{'name': 'dionyisa', 'age': 28, 'location': 'athens'}\n",
      "athens\n"
     ]
    }
   ],
   "source": [
    "d={'name':'dionyisa','age':28,'location':'athens'}\n",
    "print(d)\n",
    "c=d.pop(\"location\")\n",
    "print(c)"
   ]
  },
  {
   "cell_type": "code",
   "execution_count": 12,
   "id": "d642d02b",
   "metadata": {},
   "outputs": [
    {
     "name": "stdout",
     "output_type": "stream",
     "text": [
      "{'child1': {'name': 'emil', 'year': 2004}, 'child2': {'name': 'tobias', 'year': 2007}, 'child3': {'name': 'linus', 'year': 2011}}\n"
     ]
    }
   ],
   "source": [
    "dic={\n",
    "    \"child1\":{\n",
    "        \"name\":\"emil\",\n",
    "        \"year\":2004\n",
    "    \n",
    "},\n",
    "\"child2\":{\n",
    "        \"name\":\"tobias\",\n",
    "        \"year\":2007\n",
    "},\n",
    "\"child3\":{\n",
    "        \"name\":\"linus\",\n",
    "        \"year\":2011\n",
    "}\n",
    "}\n",
    "print(dic)"
   ]
  },
  {
   "cell_type": "code",
   "execution_count": 13,
   "id": "dc4e3417",
   "metadata": {},
   "outputs": [
    {
     "name": "stdout",
     "output_type": "stream",
     "text": [
      "{'child1': {'name': 'emil', 'year': 2004}, 'child2': {'name': 'tobias', 'year': 2007}, 'child3': {'name': 'linus', 'year': 2011}}\n"
     ]
    }
   ],
   "source": [
    "\n",
    "    a1={\n",
    "        \"name\":\"emil\",\n",
    "        \"year\":2004\n",
    "    \n",
    "}\n",
    "a2={\n",
    "        \"name\":\"tobias\",\n",
    "        \"year\":2007\n",
    "}\n",
    "a3={\n",
    "        \"name\":\"linus\",\n",
    "        \"year\":2011\n",
    "}\n",
    "\n",
    "\n",
    "aa={\n",
    "    \"child1\":a1,\n",
    "\"child2\":a2,\n",
    "\"child3\":a3}\n",
    "print(aa)"
   ]
  },
  {
   "cell_type": "code",
   "execution_count": null,
   "id": "09e51e78",
   "metadata": {},
   "outputs": [],
   "source": []
  },
  {
   "cell_type": "code",
   "execution_count": null,
   "id": "685445c7",
   "metadata": {},
   "outputs": [],
   "source": []
  }
 ],
 "metadata": {
  "kernelspec": {
   "display_name": "Python 3 (ipykernel)",
   "language": "python",
   "name": "python3"
  },
  "language_info": {
   "codemirror_mode": {
    "name": "ipython",
    "version": 3
   },
   "file_extension": ".py",
   "mimetype": "text/x-python",
   "name": "python",
   "nbconvert_exporter": "python",
   "pygments_lexer": "ipython3",
   "version": "3.9.12"
  }
 },
 "nbformat": 4,
 "nbformat_minor": 5
}
