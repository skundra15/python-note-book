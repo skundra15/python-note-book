{
 "cells": [
  {
   "cell_type": "code",
   "execution_count": null,
   "id": "1821c3e4",
   "metadata": {},
   "outputs": [],
   "source": [
    "class infant:\n",
    "    def walk(self):\n",
    "        print(\"Started Crawling\")\n",
    "child=infant()\n",
    "child.walk()\n",
    "print(\"The adress of child is \",id(child))"
   ]
  },
  {
   "cell_type": "code",
   "execution_count": null,
   "id": "4395ef8c",
   "metadata": {},
   "outputs": [],
   "source": [
    "class infant:\n",
    "    def walk(self):\n",
    "     print(\"started crawling\")\n",
    "    \n",
    "child=infant()\n",
    "child.walk()"
   ]
  },
  {
   "cell_type": "code",
   "execution_count": null,
   "id": "69e78541",
   "metadata": {},
   "outputs": [],
   "source": [
    "class mom():\n",
    "    def walk(self):\n",
    "          print(\"started crawling\")\n",
    "          print(\"the add of the self\",id(self))\n",
    "    \n",
    "mother=mom()\n",
    "print(type(mom.walk))\n",
    "print(type(mother.walk))"
   ]
  },
  {
   "cell_type": "code",
   "execution_count": null,
   "id": "8ea3ad9f",
   "metadata": {},
   "outputs": [],
   "source": [
    "g=10\n",
    "class mom():\n",
    "    l=1100\n",
    "    print(\"global\",g,\"local\",l)\n",
    "    \n",
    "mother=mom()\n",
    "print(\"global\",g)"
   ]
  },
  {
   "cell_type": "code",
   "execution_count": null,
   "id": "2ee1a28f",
   "metadata": {},
   "outputs": [],
   "source": [
    "class ex():\n",
    "    def __init__(self):\n",
    "        self.__private=\"I am private\"\n",
    "        self._protected=\"I am protected\"\n",
    "        self.public=\"I am public\"\n",
    "        \n",
    "ob=ex()\n",
    "print(ob.public)\n",
    "print(ob._protected)\n",
    "#print(ob.__private)"
   ]
  },
  {
   "cell_type": "code",
   "execution_count": null,
   "id": "a1cae256",
   "metadata": {},
   "outputs": [],
   "source": [
    "class ex():\n",
    "    def __init__(self):\n",
    "        print(\"obj const\")\n",
    "        \n",
    "    def __del__(self):\n",
    "            print(\"obj dest\")\n",
    "        \n",
    "obj=ex()\n",
    "del(obj)"
   ]
  },
  {
   "cell_type": "code",
   "execution_count": 16,
   "id": "59d9f82d",
   "metadata": {},
   "outputs": [
    {
     "name": "stdout",
     "output_type": "stream",
     "text": [
      "2019 4 17\n",
      "15 2018 4\n",
      "1 17 2017\n",
      "2019\n",
      "15\n",
      "1\n"
     ]
    }
   ],
   "source": [
    "class date:\n",
    "    def __init__(self,day,month,year):\n",
    "        self.year=year\n",
    "        self.month=month\n",
    "        self.day=day\n",
    "        \n",
    "    @classmethod\n",
    "    def myd(cls,month,year,day):\n",
    "        cls.day=day\n",
    "        cls.month=month\n",
    "        cls.year=year\n",
    "        return cls(cls.month,cls.year,cls.day)\n",
    "\n",
    "    @classmethod\n",
    "    def ydm(cls,month,year,day):\n",
    "        cls.day=day\n",
    "        cls.month=month\n",
    "        cls.year=year\n",
    "        return cls(cls.month,cls.year,cls.day)\n",
    "            \n",
    "d1=date(17,4,2019)\n",
    "print(d1.year,d1.month,d1.day)\n",
    "d2= date.myd(4,2018,15)\n",
    "print(d2.year,d2.month,d2.day)\n",
    "d3= date.ydm(2017,17,1)\n",
    "print(d3.year,d3.month,d3.day)\n",
    "print(d1.year)\n",
    "print(d2.year)\n",
    "print(d3.year)\n",
    "            "
   ]
  },
  {
   "cell_type": "code",
   "execution_count": null,
   "id": "61132427",
   "metadata": {},
   "outputs": [],
   "source": []
  },
  {
   "cell_type": "code",
   "execution_count": null,
   "id": "57dadb16",
   "metadata": {},
   "outputs": [],
   "source": []
  }
 ],
 "metadata": {
  "kernelspec": {
   "display_name": "Python 3 (ipykernel)",
   "language": "python",
   "name": "python3"
  },
  "language_info": {
   "codemirror_mode": {
    "name": "ipython",
    "version": 3
   },
   "file_extension": ".py",
   "mimetype": "text/x-python",
   "name": "python",
   "nbconvert_exporter": "python",
   "pygments_lexer": "ipython3",
   "version": "3.9.12"
  }
 },
 "nbformat": 4,
 "nbformat_minor": 5
}
